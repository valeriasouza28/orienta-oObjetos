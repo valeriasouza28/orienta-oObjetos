{
  "nbformat": 4,
  "nbformat_minor": 0,
  "metadata": {
    "colab": {
      "name": "OrientacaoObjetos1.ipynb",
      "provenance": [],
      "authorship_tag": "ABX9TyOrQ3SetH7jG4jqOecQctXv",
      "include_colab_link": true
    },
    "kernelspec": {
      "name": "python3",
      "display_name": "Python 3"
    },
    "language_info": {
      "name": "python"
    }
  },
  "cells": [
    {
      "cell_type": "markdown",
      "metadata": {
        "id": "view-in-github",
        "colab_type": "text"
      },
      "source": [
        "<a href=\"https://colab.research.google.com/github/valeriasouza28/orienta-oObjetos/blob/master/OrientacaoObjetos1.ipynb\" target=\"_parent\"><img src=\"https://colab.research.google.com/assets/colab-badge.svg\" alt=\"Open In Colab\"/></a>"
      ]
    },
    {
      "cell_type": "code",
      "execution_count": null,
      "metadata": {
        "id": "00V0oFJutTOg"
      },
      "outputs": [],
      "source": [
        "\n",
        "\n",
        "# Suponhamos que você tenha uma conta no banco com as seguintes características:Titular, número, saldo e limite.\n",
        "\n",
        "# Vamos começar inicializado as características\n",
        "número = '123-4'\n",
        "titular = \"João\"\n",
        "saldo = 120.0\n",
        "limite = 1000.0"
      ]
    },
    {
      "cell_type": "code",
      "source": [
        "# mas e se a necessidade de fazer mais uma conta surgir? Vamos criar mais uma\n",
        "número1 = '123-4'\n",
        "titular1 = \"João\"\n",
        "saldo1 = 120.0\n",
        "limite1 = 1000.0\n",
        "\n",
        "número2 = '123-4'\n",
        "titular2 = \"João\"\n",
        "saldo2 = 120.0\n",
        "limite2 = 1000.0\n",
        "\n",
        "#Se o banco vir a crescer e ter milhares de contas.\n",
        "#seria muito mais trabalhoso a manutenção da forma como está o programa."
      ],
      "metadata": {
        "id": "IfH0vbK4vsaB"
      },
      "execution_count": null,
      "outputs": []
    },
    {
      "cell_type": "code",
      "source": [
        "# E como utilizar dados de uma determinada conta dentro de um arquivo?\n",
        "#podemos utilizar a estrutura de um dicionário\n",
        "conta = {\"numero\":\"123-4\",\"titular\":\"João\",\"saldo\":120.0,\"limite\":1000.0}\n",
        "\n",
        "#Agora é possível acessar os dados da conta pelo nome de uma chave\n",
        "conta[\"numero\"]\n",
        "conta[\"titular\"]\n",
        "#Para criar uma segunda conta crie outro dicionário\n",
        "conta2 = {\"numero2\":\"123-5\",\"titular2\":\"José\",\"saldo\":200.0,\"limite\":1000.0}\n",
        "\n",
        "#Avançamos em agrupar os dados de uma conta\n",
        "#Mas ainda precisamos repetir seguidamente essa linha de código."
      ],
      "metadata": {
        "colab": {
          "base_uri": "https://localhost:8080/",
          "height": 35
        },
        "id": "pexfcvrBxELu",
        "outputId": "c24ec5fd-c549-4174-ccdc-3dd148f38555"
      },
      "execution_count": null,
      "outputs": [
        {
          "output_type": "execute_result",
          "data": {
            "application/vnd.google.colaboratory.intrinsic+json": {
              "type": "string"
            },
            "text/plain": [
              "'João'"
            ]
          },
          "metadata": {},
          "execution_count": 2
        }
      ]
    },
    {
      "cell_type": "code",
      "source": [
        "#Podemos isolar esse código em uma função responsável por criar uma conta\n",
        "def cria_conta ():\n",
        "    conta = {\"numero\":\"123-4\",\"titular\":\"João\",\"saldo\":120.0,\"limite\":1000.0}\n",
        "    return conta\n",
        "\n",
        "#Mas ainda não é o ideal\n",
        "#já que queremos criar contas com novos números\n",
        "#E tornar a criação de novas contas dinâmicas"
      ],
      "metadata": {
        "id": "5cHCrbgW2DW3"
      },
      "execution_count": null,
      "outputs": []
    },
    {
      "cell_type": "code",
      "source": [
        "#Vamos receber esses valores como parâmetros de uma função\n",
        "#E por fim retornar 'conta'\n",
        "\n",
        "def cria_conta(numero, titular, saldo, limite):\n",
        "\n",
        "    conta = {\"numero\":\"123-4\",\"titular\":\"João\",\"saldo\":120.0,\"limite\":1000.0}\n",
        "    return conta\n",
        "#Desta maneira é possível criar várias contas diferentes\n",
        "\n",
        "    conta01 = cria_conta(\"123-4\",\"João\", 120.0, 1000.0)\n",
        "\n",
        "    conta02 = cria_conta(\"123-5\",\"José\", 200.0, 1000.0)\n",
        "\n",
        " \n",
        "#Para acessar o número de cada uma delas fazemos\n",
        "    conta01[\"numero\"]\n",
        "\n",
        "    conta02[\"numero\"]"
      ],
      "metadata": {
        "id": "u4Me-m5T4e0A"
      },
      "execution_count": null,
      "outputs": []
    },
    {
      "cell_type": "code",
      "source": [
        ""
      ],
      "metadata": {
        "id": "jyCDDQtN8cmt"
      },
      "execution_count": null,
      "outputs": []
    }
  ]
}